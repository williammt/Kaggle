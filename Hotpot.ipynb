{
 "cells": [
  {
   "cell_type": "code",
   "execution_count": 66,
   "id": "622f605e",
   "metadata": {},
   "outputs": [],
   "source": [
    "import pandas as pd\n",
    "import numpy as np\n",
    "import matplotlib.pyplot as plt\n",
    "from sklearn import linear_model\n",
    "from sklearn.model_selection import train_test_split"
   ]
  },
  {
   "cell_type": "code",
   "execution_count": 2,
   "id": "0e0137ce",
   "metadata": {},
   "outputs": [],
   "source": [
    "hotpot = pd.read_csv(\"C:\\\\Users\\\\William.Tang\\\\OneDrive - Prometric Inc\\\\Documents\\\\Kaggle Datasets\\\\archive (1)\\\\hotpot.csv\")"
   ]
  },
  {
   "cell_type": "code",
   "execution_count": 3,
   "id": "2e78ac54",
   "metadata": {},
   "outputs": [
    {
     "data": {
      "text/html": [
       "<div>\n",
       "<style scoped>\n",
       "    .dataframe tbody tr th:only-of-type {\n",
       "        vertical-align: middle;\n",
       "    }\n",
       "\n",
       "    .dataframe tbody tr th {\n",
       "        vertical-align: top;\n",
       "    }\n",
       "\n",
       "    .dataframe thead th {\n",
       "        text-align: right;\n",
       "    }\n",
       "</style>\n",
       "<table border=\"1\" class=\"dataframe\">\n",
       "  <thead>\n",
       "    <tr style=\"text-align: right;\">\n",
       "      <th></th>\n",
       "      <th>name</th>\n",
       "      <th>url</th>\n",
       "      <th>star</th>\n",
       "      <th>comment</th>\n",
       "      <th>avg_price</th>\n",
       "      <th>taste</th>\n",
       "      <th>environment</th>\n",
       "      <th>services</th>\n",
       "      <th>recommend</th>\n",
       "    </tr>\n",
       "  </thead>\n",
       "  <tbody>\n",
       "    <tr>\n",
       "      <th>0</th>\n",
       "      <td>蜀城巷子老成都火锅(宜山路店)</td>\n",
       "      <td>http://www.dianping.com/shop/110269910</td>\n",
       "      <td>准五星商户</td>\n",
       "      <td>545</td>\n",
       "      <td>122</td>\n",
       "      <td>8.6</td>\n",
       "      <td>8.4</td>\n",
       "      <td>8.5</td>\n",
       "      <td>蜀城嫩鲜牛肉,毛肚,鸭血</td>\n",
       "    </tr>\n",
       "    <tr>\n",
       "      <th>1</th>\n",
       "      <td>旬野菜日本料理和牛寿喜锅专门店(浦东店)</td>\n",
       "      <td>http://www.dianping.com/shop/98281287</td>\n",
       "      <td>五星商户</td>\n",
       "      <td>602</td>\n",
       "      <td>313</td>\n",
       "      <td>8.8</td>\n",
       "      <td>9.1</td>\n",
       "      <td>9.0</td>\n",
       "      <td>安格斯牛肉寿喜锅,刺身拼盘,澳洲和牛寿喜烧</td>\n",
       "    </tr>\n",
       "    <tr>\n",
       "      <th>2</th>\n",
       "      <td>小肥羊(光启城时尚购物中心店)</td>\n",
       "      <td>http://www.dianping.com/shop/72351070</td>\n",
       "      <td>准五星商户</td>\n",
       "      <td>4308</td>\n",
       "      <td>1</td>\n",
       "      <td>9.0</td>\n",
       "      <td>8.9</td>\n",
       "      <td>8.9</td>\n",
       "      <td>特色羔羊肉,鸳鸯锅,招牌豪气羊肉串</td>\n",
       "    </tr>\n",
       "    <tr>\n",
       "      <th>3</th>\n",
       "      <td>薪火重庆本味火锅</td>\n",
       "      <td>http://www.dianping.com/shop/114858370</td>\n",
       "      <td>准五星商户</td>\n",
       "      <td>128</td>\n",
       "      <td>12</td>\n",
       "      <td>8.4</td>\n",
       "      <td>8.7</td>\n",
       "      <td>8.9</td>\n",
       "      <td>特色鲜鸭血,豚骨鸳鸯锅,现杀牛蛙</td>\n",
       "    </tr>\n",
       "    <tr>\n",
       "      <th>4</th>\n",
       "      <td>蜀大侠(江宁路店)</td>\n",
       "      <td>http://www.dianping.com/shop/98763397</td>\n",
       "      <td>五星商户</td>\n",
       "      <td>1529</td>\n",
       "      <td>133</td>\n",
       "      <td>9.0</td>\n",
       "      <td>9.0</td>\n",
       "      <td>8.9</td>\n",
       "      <td>贵妃牛肉,大侠水牛毛肚,冰川鹅肠</td>\n",
       "    </tr>\n",
       "  </tbody>\n",
       "</table>\n",
       "</div>"
      ],
      "text/plain": [
       "                   name                                     url   star  \\\n",
       "0       蜀城巷子老成都火锅(宜山路店)  http://www.dianping.com/shop/110269910  准五星商户   \n",
       "1  旬野菜日本料理和牛寿喜锅专门店(浦东店)   http://www.dianping.com/shop/98281287   五星商户   \n",
       "2       小肥羊(光启城时尚购物中心店)   http://www.dianping.com/shop/72351070  准五星商户   \n",
       "3              薪火重庆本味火锅  http://www.dianping.com/shop/114858370  准五星商户   \n",
       "4             蜀大侠(江宁路店)   http://www.dianping.com/shop/98763397   五星商户   \n",
       "\n",
       "   comment  avg_price  taste  environment  services              recommend  \n",
       "0      545        122    8.6          8.4       8.5           蜀城嫩鲜牛肉,毛肚,鸭血  \n",
       "1      602        313    8.8          9.1       9.0  安格斯牛肉寿喜锅,刺身拼盘,澳洲和牛寿喜烧  \n",
       "2     4308          1    9.0          8.9       8.9      特色羔羊肉,鸳鸯锅,招牌豪气羊肉串  \n",
       "3      128         12    8.4          8.7       8.9       特色鲜鸭血,豚骨鸳鸯锅,现杀牛蛙  \n",
       "4     1529        133    9.0          9.0       8.9       贵妃牛肉,大侠水牛毛肚,冰川鹅肠  "
      ]
     },
     "execution_count": 3,
     "metadata": {},
     "output_type": "execute_result"
    }
   ],
   "source": [
    "hotpot.head()"
   ]
  },
  {
   "cell_type": "code",
   "execution_count": 4,
   "id": "68374c49",
   "metadata": {},
   "outputs": [
    {
     "name": "stdout",
     "output_type": "stream",
     "text": [
      "<class 'pandas.core.frame.DataFrame'>\n",
      "RangeIndex: 749 entries, 0 to 748\n",
      "Data columns (total 9 columns):\n",
      " #   Column       Non-Null Count  Dtype  \n",
      "---  ------       --------------  -----  \n",
      " 0   name         749 non-null    object \n",
      " 1   url          749 non-null    object \n",
      " 2   star         749 non-null    object \n",
      " 3   comment      749 non-null    int64  \n",
      " 4   avg_price    749 non-null    int64  \n",
      " 5   taste        749 non-null    float64\n",
      " 6   environment  749 non-null    float64\n",
      " 7   services     749 non-null    float64\n",
      " 8   recommend    749 non-null    object \n",
      "dtypes: float64(3), int64(2), object(4)\n",
      "memory usage: 52.8+ KB\n"
     ]
    }
   ],
   "source": [
    "hotpot.info()"
   ]
  },
  {
   "cell_type": "code",
   "execution_count": 24,
   "id": "86950142",
   "metadata": {},
   "outputs": [
    {
     "data": {
      "text/plain": [
       "array(['准五星商户', '五星商户', '四星商户', '准四星商户'], dtype=object)"
      ]
     },
     "execution_count": 24,
     "metadata": {},
     "output_type": "execute_result"
    }
   ],
   "source": [
    "hotpot['star'].unique()"
   ]
  },
  {
   "cell_type": "code",
   "execution_count": 25,
   "id": "424fc9fe",
   "metadata": {},
   "outputs": [],
   "source": [
    "\n",
    "    \n",
    "hotpot.loc[(hotpot['star']  == \"准五星商户\") | (hotpot['star'] == \"五星商户\"), 'StarNumber'] = 5\n",
    "hotpot.loc[(hotpot['star'] == \"四星商户\") | (hotpot['star'] == \"准四星商户\"), 'StarNumber'] = 4\n"
   ]
  },
  {
   "cell_type": "code",
   "execution_count": 7,
   "id": "52cde7b1",
   "metadata": {},
   "outputs": [
    {
     "data": {
      "text/plain": [
       "749"
      ]
     },
     "execution_count": 7,
     "metadata": {},
     "output_type": "execute_result"
    }
   ],
   "source": [
    "hotpot.shape[0]"
   ]
  },
  {
   "cell_type": "code",
   "execution_count": 29,
   "id": "eaf02a94",
   "metadata": {},
   "outputs": [],
   "source": [
    "hotpot['recommend']\n",
    "hotpot[['Item 1','Item 2','Item 3']] = hotpot['recommend'].str.split(',',expand=True)"
   ]
  },
  {
   "cell_type": "code",
   "execution_count": 30,
   "id": "9477d7d9",
   "metadata": {
    "scrolled": true
   },
   "outputs": [
    {
     "data": {
      "text/html": [
       "<div>\n",
       "<style scoped>\n",
       "    .dataframe tbody tr th:only-of-type {\n",
       "        vertical-align: middle;\n",
       "    }\n",
       "\n",
       "    .dataframe tbody tr th {\n",
       "        vertical-align: top;\n",
       "    }\n",
       "\n",
       "    .dataframe thead th {\n",
       "        text-align: right;\n",
       "    }\n",
       "</style>\n",
       "<table border=\"1\" class=\"dataframe\">\n",
       "  <thead>\n",
       "    <tr style=\"text-align: right;\">\n",
       "      <th></th>\n",
       "      <th>name</th>\n",
       "      <th>url</th>\n",
       "      <th>star</th>\n",
       "      <th>comment</th>\n",
       "      <th>avg_price</th>\n",
       "      <th>taste</th>\n",
       "      <th>environment</th>\n",
       "      <th>services</th>\n",
       "      <th>recommend</th>\n",
       "      <th>StarNumber</th>\n",
       "      <th>Item 1</th>\n",
       "      <th>Item 2</th>\n",
       "      <th>Item 3</th>\n",
       "    </tr>\n",
       "  </thead>\n",
       "  <tbody>\n",
       "    <tr>\n",
       "      <th>0</th>\n",
       "      <td>蜀城巷子老成都火锅(宜山路店)</td>\n",
       "      <td>http://www.dianping.com/shop/110269910</td>\n",
       "      <td>准五星商户</td>\n",
       "      <td>545</td>\n",
       "      <td>122</td>\n",
       "      <td>8.6</td>\n",
       "      <td>8.4</td>\n",
       "      <td>8.5</td>\n",
       "      <td>蜀城嫩鲜牛肉,毛肚,鸭血</td>\n",
       "      <td>5.0</td>\n",
       "      <td>蜀城嫩鲜牛肉</td>\n",
       "      <td>毛肚</td>\n",
       "      <td>鸭血</td>\n",
       "    </tr>\n",
       "    <tr>\n",
       "      <th>1</th>\n",
       "      <td>旬野菜日本料理和牛寿喜锅专门店(浦东店)</td>\n",
       "      <td>http://www.dianping.com/shop/98281287</td>\n",
       "      <td>五星商户</td>\n",
       "      <td>602</td>\n",
       "      <td>313</td>\n",
       "      <td>8.8</td>\n",
       "      <td>9.1</td>\n",
       "      <td>9.0</td>\n",
       "      <td>安格斯牛肉寿喜锅,刺身拼盘,澳洲和牛寿喜烧</td>\n",
       "      <td>5.0</td>\n",
       "      <td>安格斯牛肉寿喜锅</td>\n",
       "      <td>刺身拼盘</td>\n",
       "      <td>澳洲和牛寿喜烧</td>\n",
       "    </tr>\n",
       "    <tr>\n",
       "      <th>2</th>\n",
       "      <td>小肥羊(光启城时尚购物中心店)</td>\n",
       "      <td>http://www.dianping.com/shop/72351070</td>\n",
       "      <td>准五星商户</td>\n",
       "      <td>4308</td>\n",
       "      <td>1</td>\n",
       "      <td>9.0</td>\n",
       "      <td>8.9</td>\n",
       "      <td>8.9</td>\n",
       "      <td>特色羔羊肉,鸳鸯锅,招牌豪气羊肉串</td>\n",
       "      <td>5.0</td>\n",
       "      <td>特色羔羊肉</td>\n",
       "      <td>鸳鸯锅</td>\n",
       "      <td>招牌豪气羊肉串</td>\n",
       "    </tr>\n",
       "    <tr>\n",
       "      <th>3</th>\n",
       "      <td>薪火重庆本味火锅</td>\n",
       "      <td>http://www.dianping.com/shop/114858370</td>\n",
       "      <td>准五星商户</td>\n",
       "      <td>128</td>\n",
       "      <td>12</td>\n",
       "      <td>8.4</td>\n",
       "      <td>8.7</td>\n",
       "      <td>8.9</td>\n",
       "      <td>特色鲜鸭血,豚骨鸳鸯锅,现杀牛蛙</td>\n",
       "      <td>5.0</td>\n",
       "      <td>特色鲜鸭血</td>\n",
       "      <td>豚骨鸳鸯锅</td>\n",
       "      <td>现杀牛蛙</td>\n",
       "    </tr>\n",
       "    <tr>\n",
       "      <th>4</th>\n",
       "      <td>蜀大侠(江宁路店)</td>\n",
       "      <td>http://www.dianping.com/shop/98763397</td>\n",
       "      <td>五星商户</td>\n",
       "      <td>1529</td>\n",
       "      <td>133</td>\n",
       "      <td>9.0</td>\n",
       "      <td>9.0</td>\n",
       "      <td>8.9</td>\n",
       "      <td>贵妃牛肉,大侠水牛毛肚,冰川鹅肠</td>\n",
       "      <td>5.0</td>\n",
       "      <td>贵妃牛肉</td>\n",
       "      <td>大侠水牛毛肚</td>\n",
       "      <td>冰川鹅肠</td>\n",
       "    </tr>\n",
       "  </tbody>\n",
       "</table>\n",
       "</div>"
      ],
      "text/plain": [
       "                   name                                     url   star  \\\n",
       "0       蜀城巷子老成都火锅(宜山路店)  http://www.dianping.com/shop/110269910  准五星商户   \n",
       "1  旬野菜日本料理和牛寿喜锅专门店(浦东店)   http://www.dianping.com/shop/98281287   五星商户   \n",
       "2       小肥羊(光启城时尚购物中心店)   http://www.dianping.com/shop/72351070  准五星商户   \n",
       "3              薪火重庆本味火锅  http://www.dianping.com/shop/114858370  准五星商户   \n",
       "4             蜀大侠(江宁路店)   http://www.dianping.com/shop/98763397   五星商户   \n",
       "\n",
       "   comment  avg_price  taste  environment  services              recommend  \\\n",
       "0      545        122    8.6          8.4       8.5           蜀城嫩鲜牛肉,毛肚,鸭血   \n",
       "1      602        313    8.8          9.1       9.0  安格斯牛肉寿喜锅,刺身拼盘,澳洲和牛寿喜烧   \n",
       "2     4308          1    9.0          8.9       8.9      特色羔羊肉,鸳鸯锅,招牌豪气羊肉串   \n",
       "3      128         12    8.4          8.7       8.9       特色鲜鸭血,豚骨鸳鸯锅,现杀牛蛙   \n",
       "4     1529        133    9.0          9.0       8.9       贵妃牛肉,大侠水牛毛肚,冰川鹅肠   \n",
       "\n",
       "   StarNumber    Item 1  Item 2   Item 3  \n",
       "0         5.0    蜀城嫩鲜牛肉      毛肚       鸭血  \n",
       "1         5.0  安格斯牛肉寿喜锅    刺身拼盘  澳洲和牛寿喜烧  \n",
       "2         5.0     特色羔羊肉     鸳鸯锅  招牌豪气羊肉串  \n",
       "3         5.0     特色鲜鸭血   豚骨鸳鸯锅     现杀牛蛙  \n",
       "4         5.0      贵妃牛肉  大侠水牛毛肚     冰川鹅肠  "
      ]
     },
     "execution_count": 30,
     "metadata": {},
     "output_type": "execute_result"
    }
   ],
   "source": [
    "hotpot.head()"
   ]
  },
  {
   "cell_type": "code",
   "execution_count": 52,
   "id": "ac0fae6b",
   "metadata": {
    "scrolled": true
   },
   "outputs": [],
   "source": [
    "hotpot = pd.melt(hotpot,id_vars = ['name','avg_price','taste','environment','services','StarNumber'],\n",
    "        value_vars = ['Item 1','Item 2', 'Item 3'])\n",
    "#pd.melt(df, id_vars=['A'], value_vars=['B', 'C'])"
   ]
  },
  {
   "cell_type": "code",
   "execution_count": 50,
   "id": "b5d57653",
   "metadata": {
    "scrolled": true
   },
   "outputs": [
    {
     "data": {
      "text/plain": [
       "([<matplotlib.axis.XTick at 0x1dd5a1a79a0>,\n",
       "  <matplotlib.axis.XTick at 0x1dd5a1a7970>,\n",
       "  <matplotlib.axis.XTick at 0x1dd5a1b7fa0>,\n",
       "  <matplotlib.axis.XTick at 0x1dd5a56c610>,\n",
       "  <matplotlib.axis.XTick at 0x1dd5a56c5e0>,\n",
       "  <matplotlib.axis.XTick at 0x1dd5a573220>,\n",
       "  <matplotlib.axis.XTick at 0x1dd5a573970>,\n",
       "  <matplotlib.axis.XTick at 0x1dd5a579100>,\n",
       "  <matplotlib.axis.XTick at 0x1dd5a579850>,\n",
       "  <matplotlib.axis.XTick at 0x1dd5a580070>,\n",
       "  <matplotlib.axis.XTick at 0x1dd5a579d60>,\n",
       "  <matplotlib.axis.XTick at 0x1dd5a573d30>,\n",
       "  <matplotlib.axis.XTick at 0x1dd5a580610>,\n",
       "  <matplotlib.axis.XTick at 0x1dd5a580cd0>,\n",
       "  <matplotlib.axis.XTick at 0x1dd5a587460>,\n",
       "  <matplotlib.axis.XTick at 0x1dd5a587bb0>,\n",
       "  <matplotlib.axis.XTick at 0x1dd5a58d340>,\n",
       "  <matplotlib.axis.XTick at 0x1dd5a587c70>,\n",
       "  <matplotlib.axis.XTick at 0x1dd5a580a60>,\n",
       "  <matplotlib.axis.XTick at 0x1dd5a58d2b0>,\n",
       "  <matplotlib.axis.XTick at 0x1dd5a596070>,\n",
       "  <matplotlib.axis.XTick at 0x1dd5a596730>,\n",
       "  <matplotlib.axis.XTick at 0x1dd5a596e80>,\n",
       "  <matplotlib.axis.XTick at 0x1dd5a59c610>,\n",
       "  <matplotlib.axis.XTick at 0x1dd5a596820>,\n",
       "  <matplotlib.axis.XTick at 0x1dd5a5800a0>,\n",
       "  <matplotlib.axis.XTick at 0x1dd5a59c160>,\n",
       "  <matplotlib.axis.XTick at 0x1dd5a5a4190>,\n",
       "  <matplotlib.axis.XTick at 0x1dd5a5a48e0>,\n",
       "  <matplotlib.axis.XTick at 0x1dd5a5a9070>,\n",
       "  <matplotlib.axis.XTick at 0x1dd5a5a4ca0>,\n",
       "  <matplotlib.axis.XTick at 0x1dd5a59cc70>,\n",
       "  <matplotlib.axis.XTick at 0x1dd5a5a9760>,\n",
       "  <matplotlib.axis.XTick at 0x1dd5a5a9cd0>,\n",
       "  <matplotlib.axis.XTick at 0x1dd5a5b1460>,\n",
       "  <matplotlib.axis.XTick at 0x1dd5a5b1bb0>],\n",
       " [Text(0, 0, ''),\n",
       "  Text(0, 0, ''),\n",
       "  Text(0, 0, ''),\n",
       "  Text(0, 0, ''),\n",
       "  Text(0, 0, ''),\n",
       "  Text(0, 0, ''),\n",
       "  Text(0, 0, ''),\n",
       "  Text(0, 0, ''),\n",
       "  Text(0, 0, ''),\n",
       "  Text(0, 0, ''),\n",
       "  Text(0, 0, ''),\n",
       "  Text(0, 0, ''),\n",
       "  Text(0, 0, ''),\n",
       "  Text(0, 0, ''),\n",
       "  Text(0, 0, ''),\n",
       "  Text(0, 0, ''),\n",
       "  Text(0, 0, ''),\n",
       "  Text(0, 0, ''),\n",
       "  Text(0, 0, ''),\n",
       "  Text(0, 0, ''),\n",
       "  Text(0, 0, ''),\n",
       "  Text(0, 0, ''),\n",
       "  Text(0, 0, ''),\n",
       "  Text(0, 0, ''),\n",
       "  Text(0, 0, ''),\n",
       "  Text(0, 0, ''),\n",
       "  Text(0, 0, ''),\n",
       "  Text(0, 0, ''),\n",
       "  Text(0, 0, ''),\n",
       "  Text(0, 0, ''),\n",
       "  Text(0, 0, ''),\n",
       "  Text(0, 0, ''),\n",
       "  Text(0, 0, ''),\n",
       "  Text(0, 0, ''),\n",
       "  Text(0, 0, ''),\n",
       "  Text(0, 0, '')])"
      ]
     },
     "execution_count": 50,
     "metadata": {},
     "output_type": "execute_result"
    },
    {
     "data": {
      "image/png": "[encoded data removed]",
      "text/plain": [
       "<Figure size 640x480 with 1 Axes>"
      ]
     },
     "metadata": {},
     "output_type": "display_data"
    }
   ],
   "source": [
    "plt.hist(hotpot['avg_price'],bins=40)\n",
    "plt.xticks(np.arange(0, max(hotpot['avg_price']), 30),rotation = 'vertical')"
   ]
  },
  {
   "cell_type": "code",
   "execution_count": 53,
   "id": "f312dc70",
   "metadata": {
    "scrolled": true
   },
   "outputs": [
    {
     "data": {
      "text/html": [
       "<div>\n",
       "<style scoped>\n",
       "    .dataframe tbody tr th:only-of-type {\n",
       "        vertical-align: middle;\n",
       "    }\n",
       "\n",
       "    .dataframe tbody tr th {\n",
       "        vertical-align: top;\n",
       "    }\n",
       "\n",
       "    .dataframe thead th {\n",
       "        text-align: right;\n",
       "    }\n",
       "</style>\n",
       "<table border=\"1\" class=\"dataframe\">\n",
       "  <thead>\n",
       "    <tr style=\"text-align: right;\">\n",
       "      <th></th>\n",
       "      <th>name</th>\n",
       "      <th>avg_price</th>\n",
       "      <th>taste</th>\n",
       "      <th>environment</th>\n",
       "      <th>services</th>\n",
       "      <th>StarNumber</th>\n",
       "      <th>variable</th>\n",
       "      <th>value</th>\n",
       "    </tr>\n",
       "  </thead>\n",
       "  <tbody>\n",
       "    <tr>\n",
       "      <th>0</th>\n",
       "      <td>蜀城巷子老成都火锅(宜山路店)</td>\n",
       "      <td>122</td>\n",
       "      <td>8.6</td>\n",
       "      <td>8.4</td>\n",
       "      <td>8.5</td>\n",
       "      <td>5.0</td>\n",
       "      <td>Item 1</td>\n",
       "      <td>蜀城嫩鲜牛肉</td>\n",
       "    </tr>\n",
       "    <tr>\n",
       "      <th>1</th>\n",
       "      <td>旬野菜日本料理和牛寿喜锅专门店(浦东店)</td>\n",
       "      <td>313</td>\n",
       "      <td>8.8</td>\n",
       "      <td>9.1</td>\n",
       "      <td>9.0</td>\n",
       "      <td>5.0</td>\n",
       "      <td>Item 1</td>\n",
       "      <td>安格斯牛肉寿喜锅</td>\n",
       "    </tr>\n",
       "    <tr>\n",
       "      <th>4</th>\n",
       "      <td>蜀大侠(江宁路店)</td>\n",
       "      <td>133</td>\n",
       "      <td>9.0</td>\n",
       "      <td>9.0</td>\n",
       "      <td>8.9</td>\n",
       "      <td>5.0</td>\n",
       "      <td>Item 1</td>\n",
       "      <td>贵妃牛肉</td>\n",
       "    </tr>\n",
       "    <tr>\n",
       "      <th>5</th>\n",
       "      <td>蜀大侠火锅(东建路店)</td>\n",
       "      <td>136</td>\n",
       "      <td>9.1</td>\n",
       "      <td>9.1</td>\n",
       "      <td>9.0</td>\n",
       "      <td>5.0</td>\n",
       "      <td>Item 1</td>\n",
       "      <td>贵妃牛肉</td>\n",
       "    </tr>\n",
       "    <tr>\n",
       "      <th>6</th>\n",
       "      <td>青岛1903</td>\n",
       "      <td>361</td>\n",
       "      <td>9.1</td>\n",
       "      <td>9.2</td>\n",
       "      <td>8.7</td>\n",
       "      <td>5.0</td>\n",
       "      <td>Item 1</td>\n",
       "      <td>ipa青岛啤酒</td>\n",
       "    </tr>\n",
       "    <tr>\n",
       "      <th>...</th>\n",
       "      <td>...</td>\n",
       "      <td>...</td>\n",
       "      <td>...</td>\n",
       "      <td>...</td>\n",
       "      <td>...</td>\n",
       "      <td>...</td>\n",
       "      <td>...</td>\n",
       "      <td>...</td>\n",
       "    </tr>\n",
       "    <tr>\n",
       "      <th>2242</th>\n",
       "      <td>陈记顺和牛肉店(浙江南路店)</td>\n",
       "      <td>129</td>\n",
       "      <td>8.7</td>\n",
       "      <td>8.1</td>\n",
       "      <td>8.3</td>\n",
       "      <td>5.0</td>\n",
       "      <td>Item 3</td>\n",
       "      <td>嫩肉</td>\n",
       "    </tr>\n",
       "    <tr>\n",
       "      <th>2243</th>\n",
       "      <td>炉得香双层烤鸭火锅(松江店)</td>\n",
       "      <td>103</td>\n",
       "      <td>8.5</td>\n",
       "      <td>8.9</td>\n",
       "      <td>8.8</td>\n",
       "      <td>5.0</td>\n",
       "      <td>Item 3</td>\n",
       "      <td>烤鸭火锅</td>\n",
       "    </tr>\n",
       "    <tr>\n",
       "      <th>2244</th>\n",
       "      <td>大头椰(万象城店)</td>\n",
       "      <td>141</td>\n",
       "      <td>8.4</td>\n",
       "      <td>9.1</td>\n",
       "      <td>8.8</td>\n",
       "      <td>5.0</td>\n",
       "      <td>Item 3</td>\n",
       "      <td>椰汁饮料</td>\n",
       "    </tr>\n",
       "    <tr>\n",
       "      <th>2245</th>\n",
       "      <td>重庆熬家老火锅(金桥太茂店)</td>\n",
       "      <td>126</td>\n",
       "      <td>8.7</td>\n",
       "      <td>8.7</td>\n",
       "      <td>8.7</td>\n",
       "      <td>5.0</td>\n",
       "      <td>Item 3</td>\n",
       "      <td>牛油番茄鸳鸯锅</td>\n",
       "    </tr>\n",
       "    <tr>\n",
       "      <th>2246</th>\n",
       "      <td>东来顺(爱琴海购物中心店)</td>\n",
       "      <td>167</td>\n",
       "      <td>8.4</td>\n",
       "      <td>9.0</td>\n",
       "      <td>8.9</td>\n",
       "      <td>4.0</td>\n",
       "      <td>Item 3</td>\n",
       "      <td>红柳枝羊肉串</td>\n",
       "    </tr>\n",
       "  </tbody>\n",
       "</table>\n",
       "<p>2022 rows × 8 columns</p>\n",
       "</div>"
      ],
      "text/plain": [
       "                      name  avg_price  taste  environment  services  \\\n",
       "0          蜀城巷子老成都火锅(宜山路店)        122    8.6          8.4       8.5   \n",
       "1     旬野菜日本料理和牛寿喜锅专门店(浦东店)        313    8.8          9.1       9.0   \n",
       "4                蜀大侠(江宁路店)        133    9.0          9.0       8.9   \n",
       "5              蜀大侠火锅(东建路店)        136    9.1          9.1       9.0   \n",
       "6                   青岛1903        361    9.1          9.2       8.7   \n",
       "...                    ...        ...    ...          ...       ...   \n",
       "2242        陈记顺和牛肉店(浙江南路店)        129    8.7          8.1       8.3   \n",
       "2243        炉得香双层烤鸭火锅(松江店)        103    8.5          8.9       8.8   \n",
       "2244             大头椰(万象城店)        141    8.4          9.1       8.8   \n",
       "2245        重庆熬家老火锅(金桥太茂店)        126    8.7          8.7       8.7   \n",
       "2246         东来顺(爱琴海购物中心店)        167    8.4          9.0       8.9   \n",
       "\n",
       "      StarNumber variable     value  \n",
       "0            5.0   Item 1    蜀城嫩鲜牛肉  \n",
       "1            5.0   Item 1  安格斯牛肉寿喜锅  \n",
       "4            5.0   Item 1      贵妃牛肉  \n",
       "5            5.0   Item 1      贵妃牛肉  \n",
       "6            5.0   Item 1   ipa青岛啤酒  \n",
       "...          ...      ...       ...  \n",
       "2242         5.0   Item 3        嫩肉  \n",
       "2243         5.0   Item 3      烤鸭火锅  \n",
       "2244         5.0   Item 3      椰汁饮料  \n",
       "2245         5.0   Item 3   牛油番茄鸳鸯锅  \n",
       "2246         4.0   Item 3    红柳枝羊肉串  \n",
       "\n",
       "[2022 rows x 8 columns]"
      ]
     },
     "execution_count": 53,
     "metadata": {},
     "output_type": "execute_result"
    }
   ],
   "source": [
    "hotpot.loc[hotpot['avg_price'] > 30]\n",
    "#average price 30rmb too low"
   ]
  },
  {
   "cell_type": "code",
   "execution_count": 136,
   "id": "305759ee",
   "metadata": {},
   "outputs": [
    {
     "data": {
      "text/html": [
       "<div>\n",
       "<style scoped>\n",
       "    .dataframe tbody tr th:only-of-type {\n",
       "        vertical-align: middle;\n",
       "    }\n",
       "\n",
       "    .dataframe tbody tr th {\n",
       "        vertical-align: top;\n",
       "    }\n",
       "\n",
       "    .dataframe thead th {\n",
       "        text-align: right;\n",
       "    }\n",
       "</style>\n",
       "<table border=\"1\" class=\"dataframe\">\n",
       "  <thead>\n",
       "    <tr style=\"text-align: right;\">\n",
       "      <th></th>\n",
       "      <th>name</th>\n",
       "      <th>avg_price</th>\n",
       "      <th>taste</th>\n",
       "      <th>environment</th>\n",
       "      <th>services</th>\n",
       "      <th>StarNumber</th>\n",
       "      <th>variable</th>\n",
       "      <th>value</th>\n",
       "      <th>valueobject</th>\n",
       "      <th>Meat</th>\n",
       "      <th>Length</th>\n",
       "    </tr>\n",
       "  </thead>\n",
       "  <tbody>\n",
       "    <tr>\n",
       "      <th>0</th>\n",
       "      <td>蜀城巷子老成都火锅(宜山路店)</td>\n",
       "      <td>122</td>\n",
       "      <td>8.6</td>\n",
       "      <td>8.4</td>\n",
       "      <td>8.5</td>\n",
       "      <td>5.0</td>\n",
       "      <td>Item 1</td>\n",
       "      <td>蜀城嫩鲜牛肉</td>\n",
       "      <td>蜀城嫩鲜牛肉</td>\n",
       "      <td>False</td>\n",
       "      <td>6</td>\n",
       "    </tr>\n",
       "    <tr>\n",
       "      <th>1</th>\n",
       "      <td>旬野菜日本料理和牛寿喜锅专门店(浦东店)</td>\n",
       "      <td>313</td>\n",
       "      <td>8.8</td>\n",
       "      <td>9.1</td>\n",
       "      <td>9.0</td>\n",
       "      <td>5.0</td>\n",
       "      <td>Item 1</td>\n",
       "      <td>安格斯牛肉寿喜锅</td>\n",
       "      <td>安格斯牛肉寿喜锅</td>\n",
       "      <td>False</td>\n",
       "      <td>8</td>\n",
       "    </tr>\n",
       "    <tr>\n",
       "      <th>2</th>\n",
       "      <td>小肥羊(光启城时尚购物中心店)</td>\n",
       "      <td>1</td>\n",
       "      <td>9.0</td>\n",
       "      <td>8.9</td>\n",
       "      <td>8.9</td>\n",
       "      <td>5.0</td>\n",
       "      <td>Item 1</td>\n",
       "      <td>特色羔羊肉</td>\n",
       "      <td>特色羔羊肉</td>\n",
       "      <td>True</td>\n",
       "      <td>5</td>\n",
       "    </tr>\n",
       "    <tr>\n",
       "      <th>3</th>\n",
       "      <td>薪火重庆本味火锅</td>\n",
       "      <td>12</td>\n",
       "      <td>8.4</td>\n",
       "      <td>8.7</td>\n",
       "      <td>8.9</td>\n",
       "      <td>5.0</td>\n",
       "      <td>Item 1</td>\n",
       "      <td>特色鲜鸭血</td>\n",
       "      <td>特色鲜鸭血</td>\n",
       "      <td>False</td>\n",
       "      <td>5</td>\n",
       "    </tr>\n",
       "    <tr>\n",
       "      <th>4</th>\n",
       "      <td>蜀大侠(江宁路店)</td>\n",
       "      <td>133</td>\n",
       "      <td>9.0</td>\n",
       "      <td>9.0</td>\n",
       "      <td>8.9</td>\n",
       "      <td>5.0</td>\n",
       "      <td>Item 1</td>\n",
       "      <td>贵妃牛肉</td>\n",
       "      <td>贵妃牛肉</td>\n",
       "      <td>False</td>\n",
       "      <td>4</td>\n",
       "    </tr>\n",
       "  </tbody>\n",
       "</table>\n",
       "</div>"
      ],
      "text/plain": [
       "                   name  avg_price  taste  environment  services  StarNumber  \\\n",
       "0       蜀城巷子老成都火锅(宜山路店)        122    8.6          8.4       8.5         5.0   \n",
       "1  旬野菜日本料理和牛寿喜锅专门店(浦东店)        313    8.8          9.1       9.0         5.0   \n",
       "2       小肥羊(光启城时尚购物中心店)          1    9.0          8.9       8.9         5.0   \n",
       "3              薪火重庆本味火锅         12    8.4          8.7       8.9         5.0   \n",
       "4             蜀大侠(江宁路店)        133    9.0          9.0       8.9         5.0   \n",
       "\n",
       "  variable     value valueobject   Meat  Length  \n",
       "0   Item 1    蜀城嫩鲜牛肉      蜀城嫩鲜牛肉  False       6  \n",
       "1   Item 1  安格斯牛肉寿喜锅    安格斯牛肉寿喜锅  False       8  \n",
       "2   Item 1     特色羔羊肉       特色羔羊肉   True       5  \n",
       "3   Item 1     特色鲜鸭血       特色鲜鸭血  False       5  \n",
       "4   Item 1      贵妃牛肉        贵妃牛肉  False       4  "
      ]
     },
     "execution_count": 136,
     "metadata": {},
     "output_type": "execute_result"
    }
   ],
   "source": [
    "hotpot.head()"
   ]
  },
  {
   "cell_type": "code",
   "execution_count": 135,
   "id": "cb1c1984",
   "metadata": {},
   "outputs": [],
   "source": [
    "hotpot['Length']= hotpot['value'].str.len()"
   ]
  },
  {
   "cell_type": "code",
   "execution_count": 96,
   "id": "6491e4ac",
   "metadata": {},
   "outputs": [
    {
     "data": {
      "text/plain": [
       "0        True\n",
       "1        True\n",
       "2        True\n",
       "3       False\n",
       "4        True\n",
       "        ...  \n",
       "2242     True\n",
       "2243    False\n",
       "2244    False\n",
       "2245    False\n",
       "2246     True\n",
       "Name: value, Length: 2247, dtype: bool"
      ]
     },
     "execution_count": 96,
     "metadata": {},
     "output_type": "execute_result"
    }
   ],
   "source": [
    "hotpot['value'].str.contains('肉')"
   ]
  },
  {
   "cell_type": "code",
   "execution_count": 105,
   "id": "407d96af",
   "metadata": {},
   "outputs": [],
   "source": [
    "hotpot['Meat'] = hotpot['value'].str.contains('羊肉')"
   ]
  },
  {
   "cell_type": "code",
   "execution_count": 80,
   "id": "6e380a14",
   "metadata": {},
   "outputs": [],
   "source": [
    "hotpot['value'].unique().shape[0]\n",
    "hotpot['valueobject'] = hotpot['value'].astype(object)"
   ]
  },
  {
   "cell_type": "code",
   "execution_count": 58,
   "id": "d3ed975d",
   "metadata": {},
   "outputs": [
    {
     "data": {
      "text/html": [
       "<div>\n",
       "<style scoped>\n",
       "    .dataframe tbody tr th:only-of-type {\n",
       "        vertical-align: middle;\n",
       "    }\n",
       "\n",
       "    .dataframe tbody tr th {\n",
       "        vertical-align: top;\n",
       "    }\n",
       "\n",
       "    .dataframe thead th {\n",
       "        text-align: right;\n",
       "    }\n",
       "</style>\n",
       "<table border=\"1\" class=\"dataframe\">\n",
       "  <thead>\n",
       "    <tr style=\"text-align: right;\">\n",
       "      <th></th>\n",
       "      <th>avg_price</th>\n",
       "      <th>taste</th>\n",
       "      <th>environment</th>\n",
       "      <th>services</th>\n",
       "      <th>StarNumber</th>\n",
       "    </tr>\n",
       "  </thead>\n",
       "  <tbody>\n",
       "    <tr>\n",
       "      <th>avg_price</th>\n",
       "      <td>1.000000</td>\n",
       "      <td>0.205322</td>\n",
       "      <td>0.248469</td>\n",
       "      <td>0.185482</td>\n",
       "      <td>0.043566</td>\n",
       "    </tr>\n",
       "    <tr>\n",
       "      <th>taste</th>\n",
       "      <td>0.205322</td>\n",
       "      <td>1.000000</td>\n",
       "      <td>0.568752</td>\n",
       "      <td>0.703251</td>\n",
       "      <td>0.470407</td>\n",
       "    </tr>\n",
       "    <tr>\n",
       "      <th>environment</th>\n",
       "      <td>0.248469</td>\n",
       "      <td>0.568752</td>\n",
       "      <td>1.000000</td>\n",
       "      <td>0.735661</td>\n",
       "      <td>0.367145</td>\n",
       "    </tr>\n",
       "    <tr>\n",
       "      <th>services</th>\n",
       "      <td>0.185482</td>\n",
       "      <td>0.703251</td>\n",
       "      <td>0.735661</td>\n",
       "      <td>1.000000</td>\n",
       "      <td>0.495608</td>\n",
       "    </tr>\n",
       "    <tr>\n",
       "      <th>StarNumber</th>\n",
       "      <td>0.043566</td>\n",
       "      <td>0.470407</td>\n",
       "      <td>0.367145</td>\n",
       "      <td>0.495608</td>\n",
       "      <td>1.000000</td>\n",
       "    </tr>\n",
       "  </tbody>\n",
       "</table>\n",
       "</div>"
      ],
      "text/plain": [
       "             avg_price     taste  environment  services  StarNumber\n",
       "avg_price     1.000000  0.205322     0.248469  0.185482    0.043566\n",
       "taste         0.205322  1.000000     0.568752  0.703251    0.470407\n",
       "environment   0.248469  0.568752     1.000000  0.735661    0.367145\n",
       "services      0.185482  0.703251     0.735661  1.000000    0.495608\n",
       "StarNumber    0.043566  0.470407     0.367145  0.495608    1.000000"
      ]
     },
     "execution_count": 58,
     "metadata": {},
     "output_type": "execute_result"
    }
   ],
   "source": [
    "hotpot.corr()\n",
    "#services rather high correlation with taste + environment\n",
    "# price low correlation with star number"
   ]
  },
  {
   "cell_type": "code",
   "execution_count": 106,
   "id": "c506ee04",
   "metadata": {},
   "outputs": [],
   "source": [
    "hotpot_Dummy = pd.get_dummies(hotpot['Meat'])"
   ]
  },
  {
   "cell_type": "code",
   "execution_count": 137,
   "id": "2fc0f694",
   "metadata": {},
   "outputs": [],
   "source": [
    "hotpot_Numeric = hotpot[['avg_price','taste','environment','services',\"Length\"]]\n",
    "hotpot_Star = hotpot['StarNumber']\n",
    "\n",
    "hotpot_merged = pd.concat([hotpot_Numeric, hotpot_Dummy], ignore_index=True, sort=False,axis=1)"
   ]
  },
  {
   "cell_type": "code",
   "execution_count": 77,
   "id": "9d495994",
   "metadata": {},
   "outputs": [
    {
     "data": {
      "text/plain": [
       "2247"
      ]
     },
     "execution_count": 77,
     "metadata": {},
     "output_type": "execute_result"
    }
   ],
   "source": [
    "hotpot_Numeric.shape[0]"
   ]
  },
  {
   "cell_type": "code",
   "execution_count": 78,
   "id": "8eda7b2d",
   "metadata": {
    "scrolled": true
   },
   "outputs": [
    {
     "data": {
      "text/plain": [
       "2247"
      ]
     },
     "execution_count": 78,
     "metadata": {},
     "output_type": "execute_result"
    }
   ],
   "source": [
    "hotpot_Star.shape[0]"
   ]
  },
  {
   "cell_type": "code",
   "execution_count": 82,
   "id": "e20fdf10",
   "metadata": {},
   "outputs": [
    {
     "data": {
      "text/plain": [
       "2247"
      ]
     },
     "execution_count": 82,
     "metadata": {},
     "output_type": "execute_result"
    }
   ],
   "source": [
    "hotpot_Dummy.shape[0]"
   ]
  },
  {
   "cell_type": "code",
   "execution_count": 100,
   "id": "1ccf41f0",
   "metadata": {},
   "outputs": [
    {
     "data": {
      "text/plain": [
       "2247"
      ]
     },
     "execution_count": 100,
     "metadata": {},
     "output_type": "execute_result"
    }
   ],
   "source": [
    "hotpot_merged.shape[0]"
   ]
  },
  {
   "cell_type": "code",
   "execution_count": 138,
   "id": "8aa79525",
   "metadata": {},
   "outputs": [],
   "source": [
    "X_train, X_test, Y_train, Y_test = train_test_split(hotpot_merged, hotpot_Star, test_size = .20, random_state = 40)\n",
    "\n",
    "regr = linear_model.LinearRegression() # Do not use fit_intercept = False if you have removed 1 column after dummy encoding\n",
    "regr.fit(X_train, Y_train)\n",
    "predicted = regr.predict(X_test)"
   ]
  },
  {
   "cell_type": "code",
   "execution_count": 139,
   "id": "561402b3",
   "metadata": {},
   "outputs": [
    {
     "data": {
      "text/plain": [
       "0.2943346001484619"
      ]
     },
     "execution_count": 139,
     "metadata": {},
     "output_type": "execute_result"
    }
   ],
   "source": [
    "regr.score(X_test, Y_test)"
   ]
  }
 ],
 "metadata": {
  "kernelspec": {
   "display_name": "Python 3 (ipykernel)",
   "language": "python",
   "name": "python3"
  },
  "language_info": {
   "codemirror_mode": {
    "name": "ipython",
    "version": 3
   },
   "file_extension": ".py",
   "mimetype": "text/x-python",
   "name": "python",
   "nbconvert_exporter": "python",
   "pygments_lexer": "ipython3",
   "version": "3.9.13"
  }
 },
 "nbformat": 4,
 "nbformat_minor": 5
}
